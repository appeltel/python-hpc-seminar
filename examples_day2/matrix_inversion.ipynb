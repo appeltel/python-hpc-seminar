{
 "cells": [
  {
   "cell_type": "markdown",
   "metadata": {},
   "source": [
    "## Numpy Matrix Inversion Example\n",
    "\n",
    "This notebook is yesterday's matrix inversion example re-written as a notebook.\n",
    "\n",
    "The code is essentially the same, but broken into cells that can be run\n",
    "sequentially in steps, edited, and run again as needed for rapid development.\n",
    "\n",
    "Cells such as this are written in [markdown](http://jupyter-notebook.readthedocs.io/en/stable/examples/Notebook/Working%20With%20Markdown%20Cells.html) for easy annotation and sharing of ideas and techniques."
   ]
  },
  {
   "cell_type": "code",
   "execution_count": 1,
   "metadata": {
    "collapsed": true
   },
   "outputs": [],
   "source": [
    "import datetime\n",
    "\n",
    "import numpy as np"
   ]
  },
  {
   "cell_type": "markdown",
   "metadata": {},
   "source": [
    "First generate the random matrices with numpy"
   ]
  },
  {
   "cell_type": "code",
   "execution_count": 2,
   "metadata": {
    "collapsed": true
   },
   "outputs": [],
   "source": [
    "input_matrices = [\n",
    "    np.random.uniform(low=-100., high=100., size=(300,300)) for _ in range(4)\n",
    "]"
   ]
  },
  {
   "cell_type": "markdown",
   "metadata": {},
   "source": [
    "Now timestamp before and after the inversions are run using `numpy.linalg.inv` and print the result of the reduction and elapsed time. Here the reduction is to add up a specific row/column element from all four matrices."
   ]
  },
  {
   "cell_type": "code",
   "execution_count": 5,
   "metadata": {},
   "outputs": [
    {
     "name": "stdout",
     "output_type": "stream",
     "text": [
      "Inverted 4 300x300 matrices.\n",
      "Sum of M^-1[50][50] is -0.0011340947058036753\n",
      "Time elapsed: 0.033s\n"
     ]
    }
   ],
   "source": [
    "before = datetime.datetime.utcnow()\n",
    "\n",
    "inverses = []\n",
    "for matrix in input_matrices:\n",
    "    inverses.append(np.linalg.inv(matrix))\n",
    "\n",
    "result = sum(M[50][50] for M in inverses)\n",
    "\n",
    "after = datetime.datetime.utcnow()\n",
    "elapsed = (after - before).total_seconds()\n",
    "\n",
    "print('Inverted 4 300x300 matrices.')\n",
    "print('Sum of M^-1[50][50] is {}'.format(result))\n",
    "print('Time elapsed: {0:.3f}s'.format(elapsed))"
   ]
  },
  {
   "cell_type": "markdown",
   "metadata": {},
   "source": [
    "You may need to rerun the above cell for accurate timing information as the first run may involve loading libraries from the network filesystem that will be cached on subsequent runs.\n",
    "\n",
    "You can see the compilation options for numpy with `show_config` indicating the underlying linear algebra libraries being used."
   ]
  },
  {
   "cell_type": "code",
   "execution_count": 6,
   "metadata": {},
   "outputs": [
    {
     "name": "stdout",
     "output_type": "stream",
     "text": [
      "blas_mkl_info:\n",
      "    libraries = ['mkl_intel_lp64', 'mkl_intel_thread', 'mkl_core', 'iomp5', 'pthread']\n",
      "    library_dirs = ['/opt/easybuild/software/Core/Anaconda3/4.4.0/lib']\n",
      "    define_macros = [('SCIPY_MKL_H', None), ('HAVE_CBLAS', None)]\n",
      "    include_dirs = ['/opt/easybuild/software/Core/Anaconda3/4.4.0/include']\n",
      "blas_opt_info:\n",
      "    libraries = ['mkl_intel_lp64', 'mkl_intel_thread', 'mkl_core', 'iomp5', 'pthread']\n",
      "    library_dirs = ['/opt/easybuild/software/Core/Anaconda3/4.4.0/lib']\n",
      "    define_macros = [('SCIPY_MKL_H', None), ('HAVE_CBLAS', None)]\n",
      "    include_dirs = ['/opt/easybuild/software/Core/Anaconda3/4.4.0/include']\n",
      "lapack_mkl_info:\n",
      "    libraries = ['mkl_intel_lp64', 'mkl_intel_thread', 'mkl_core', 'iomp5', 'pthread']\n",
      "    library_dirs = ['/opt/easybuild/software/Core/Anaconda3/4.4.0/lib']\n",
      "    define_macros = [('SCIPY_MKL_H', None), ('HAVE_CBLAS', None)]\n",
      "    include_dirs = ['/opt/easybuild/software/Core/Anaconda3/4.4.0/include']\n",
      "lapack_opt_info:\n",
      "    libraries = ['mkl_intel_lp64', 'mkl_intel_thread', 'mkl_core', 'iomp5', 'pthread']\n",
      "    library_dirs = ['/opt/easybuild/software/Core/Anaconda3/4.4.0/lib']\n",
      "    define_macros = [('SCIPY_MKL_H', None), ('HAVE_CBLAS', None)]\n",
      "    include_dirs = ['/opt/easybuild/software/Core/Anaconda3/4.4.0/include']\n"
     ]
    }
   ],
   "source": [
    "np.show_config()"
   ]
  }
 ],
 "metadata": {
  "kernelspec": {
   "display_name": "Python 3",
   "language": "python",
   "name": "python3"
  },
  "language_info": {
   "codemirror_mode": {
    "name": "ipython",
    "version": 3
   },
   "file_extension": ".py",
   "mimetype": "text/x-python",
   "name": "python",
   "nbconvert_exporter": "python",
   "pygments_lexer": "ipython3",
   "version": "3.6.1"
  }
 },
 "nbformat": 4,
 "nbformat_minor": 2
}
